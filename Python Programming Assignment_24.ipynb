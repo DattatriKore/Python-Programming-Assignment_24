{
 "cells": [
  {
   "cell_type": "code",
   "execution_count": 1,
   "id": "d6366cf7",
   "metadata": {},
   "outputs": [],
   "source": [
    "'''\n",
    "Q.[1] : Create a function that takes an integer and returns a list from 1 to the given number, where:\n",
    "\n",
    "        1. If the number can be divided evenly by 4, amplify it by 10 (i.e. return 10 times the number).\n",
    "        \n",
    "        2. If the number cannot be divided evenly by 4, simply return the number.\n",
    "        \n",
    "        Examples\n",
    "        \n",
    "        amplify(4) ➞ [1, 2, 3, 40]\n",
    "        \n",
    "        amplify(3) ➞ [1, 2, 3]\n",
    "        \n",
    "        amplify(25) ➞ [1, 2, 3, 40, 5, 6, 7, 80, 9, 10, 11, 120, 13, 14, 15, 160, 17, 18, 19, 200, 21, 22, 23, 240, 25]\n",
    "        \n",
    "        Notes\n",
    "        \n",
    "          The given integer will always be equal to or greater than 1.\n",
    "         \n",
    "          Include the number (see example above).\n",
    "         \n",
    "          To perform this problem with its intended purpose, try doing it with list comprehensions.\n",
    "         \n",
    "           If that's too difficult, just solve the challenge any way you can.\n",
    "\n",
    "'''\n",
    "\n",
    "def amplify(n):\n",
    "    return [i*10 if i % 4 == 0 else i for i in range(1,n+1)]"
   ]
  },
  {
   "cell_type": "code",
   "execution_count": 2,
   "id": "4f455be4",
   "metadata": {},
   "outputs": [
    {
     "data": {
      "text/plain": [
       "[1, 2, 3, 40]"
      ]
     },
     "execution_count": 2,
     "metadata": {},
     "output_type": "execute_result"
    }
   ],
   "source": [
    "amplify(4)"
   ]
  },
  {
   "cell_type": "code",
   "execution_count": 3,
   "id": "7f156e39",
   "metadata": {},
   "outputs": [
    {
     "data": {
      "text/plain": [
       "[1, 2, 3]"
      ]
     },
     "execution_count": 3,
     "metadata": {},
     "output_type": "execute_result"
    }
   ],
   "source": [
    "amplify(3)"
   ]
  },
  {
   "cell_type": "code",
   "execution_count": 6,
   "id": "49627603",
   "metadata": {},
   "outputs": [
    {
     "data": {
      "text/plain": [
       "[1,\n",
       " 2,\n",
       " 3,\n",
       " 40,\n",
       " 5,\n",
       " 6,\n",
       " 7,\n",
       " 80,\n",
       " 9,\n",
       " 10,\n",
       " 11,\n",
       " 120,\n",
       " 13,\n",
       " 14,\n",
       " 15,\n",
       " 160,\n",
       " 17,\n",
       " 18,\n",
       " 19,\n",
       " 200,\n",
       " 21,\n",
       " 22,\n",
       " 23,\n",
       " 240,\n",
       " 25]"
      ]
     },
     "execution_count": 6,
     "metadata": {},
     "output_type": "execute_result"
    }
   ],
   "source": [
    "amplify(25)"
   ]
  },
  {
   "cell_type": "code",
   "execution_count": 19,
   "id": "bd1fea6c",
   "metadata": {},
   "outputs": [],
   "source": [
    "'''\n",
    "Q.[2] : Create a function that takes a list of numbers and return the number that's unique.\n",
    "\n",
    "        Examples\n",
    "        \n",
    "        unique([3, 3, 3, 7, 3, 3]) ➞ 7\n",
    "        \n",
    "        unique([0, 0, 0.77, 0, 0]) ➞ 0.77\n",
    "        \n",
    "        unique([0, 1, 1, 1, 1, 1, 1, 1]) ➞ 0\n",
    "        \n",
    "        Notes\n",
    "        \n",
    "        Test cases will always have exactly one unique number while all others are the same.\n",
    "\n",
    "'''\n",
    "\n",
    "def unique(lst):\n",
    "    s = list(set(lst))\n",
    "    for i in s:\n",
    "        if lst.count(i) == 1:\n",
    "            return i"
   ]
  },
  {
   "cell_type": "code",
   "execution_count": 20,
   "id": "eacb1d56",
   "metadata": {},
   "outputs": [
    {
     "data": {
      "text/plain": [
       "7"
      ]
     },
     "execution_count": 20,
     "metadata": {},
     "output_type": "execute_result"
    }
   ],
   "source": [
    "unique([3, 3, 3, 7, 3, 3])"
   ]
  },
  {
   "cell_type": "code",
   "execution_count": 21,
   "id": "038294a8",
   "metadata": {},
   "outputs": [
    {
     "data": {
      "text/plain": [
       "0.77"
      ]
     },
     "execution_count": 21,
     "metadata": {},
     "output_type": "execute_result"
    }
   ],
   "source": [
    "unique([0, 0, 0.77, 0, 0])"
   ]
  },
  {
   "cell_type": "code",
   "execution_count": 22,
   "id": "2b5203a7",
   "metadata": {},
   "outputs": [
    {
     "data": {
      "text/plain": [
       "0"
      ]
     },
     "execution_count": 22,
     "metadata": {},
     "output_type": "execute_result"
    }
   ],
   "source": [
    "unique([0, 1, 1, 1, 1, 1, 1, 1])"
   ]
  },
  {
   "cell_type": "code",
   "execution_count": 23,
   "id": "0bec81b2",
   "metadata": {},
   "outputs": [],
   "source": [
    "'''\n",
    "Q.[3] : Your task is to create a Circle constructor that creates a circle with a radius provided by an argument. The\n",
    "\n",
    "        circles constructed must have two getters getArea() (PIr^2) and getPerimeter() (2PI*r) which give both respective\n",
    "        \n",
    "        areas and perimeter (circumference).\n",
    "\n",
    "        For help with this class, I have provided you with a Rectangle constructor which you can use as a base example.\n",
    "        \n",
    "        Examples\n",
    "        \n",
    "        circy = Circle(11)\n",
    "        \n",
    "        circy.getArea()\n",
    "        \n",
    "        # Should return 380.132711084365\n",
    "        \n",
    "        circy = Circle(4.44)\n",
    "        \n",
    "        circy.getPerimeter()\n",
    "        \n",
    "        # Should return 27.897342763877365\n",
    "        \n",
    "        Notes\n",
    "        \n",
    "        Round results up to the nearest integer.\n",
    "\n",
    "'''\n",
    "\n",
    "class Circle():\n",
    "    def __init__(self, r):\n",
    "        self.radius = r\n",
    "\n",
    "    def getArea(self):\n",
    "        return round(self.radius**2*3.14)\n",
    "    \n",
    "    def getPerimeter(self):\n",
    "        return round(2*self.radius*3.14)"
   ]
  },
  {
   "cell_type": "code",
   "execution_count": 24,
   "id": "81e3be0b",
   "metadata": {},
   "outputs": [
    {
     "data": {
      "text/plain": [
       "380"
      ]
     },
     "execution_count": 24,
     "metadata": {},
     "output_type": "execute_result"
    }
   ],
   "source": [
    "circy = Circle(11)\n",
    "circy.getArea()"
   ]
  },
  {
   "cell_type": "code",
   "execution_count": 25,
   "id": "2c1cfd57",
   "metadata": {},
   "outputs": [
    {
     "data": {
      "text/plain": [
       "28"
      ]
     },
     "execution_count": 25,
     "metadata": {},
     "output_type": "execute_result"
    }
   ],
   "source": [
    "circy = Circle(4.44)\n",
    "circy.getPerimeter()"
   ]
  },
  {
   "cell_type": "code",
   "execution_count": 26,
   "id": "c7f4b4e6",
   "metadata": {},
   "outputs": [],
   "source": [
    "'''\n",
    "Q.[4] : Create a function that takes a list of strings and return a list, sorted from shortest to longest.\n",
    "\n",
    "        Examples\n",
    "        \n",
    "        sort_by_length([\"Google\", \"Apple\", \"Microsoft\"])\n",
    "        \n",
    "        ➞ [\"Apple\", \"Google\", \"Microsoft\"]\n",
    "        \n",
    "        sort_by_length([\"Leonardo\", \"Michelangelo\", \"Raphael\", \"Donatello\"])\n",
    "        \n",
    "        ➞ [\"Raphael\", \"Leonardo\", \"Donatello\", \"Michelangelo\"]\n",
    "        \n",
    "        sort_by_length([\"Turing\", \"Einstein\", \"Jung\"])\n",
    "        \n",
    "        ➞ [\"Jung\", \"Turing\", \"Einstein\"]\n",
    "        \n",
    "        Notes\n",
    "        \n",
    "        All test cases contain lists with strings of different lengths, so you won&#39;t have to deal with \n",
    "        \n",
    "        multiple strings of the same length.\n",
    "\n",
    "'''\n",
    "\n",
    "def sort_by_length(lst):\n",
    "    return sorted(lst, key = len)"
   ]
  },
  {
   "cell_type": "code",
   "execution_count": 27,
   "id": "3f4112f6",
   "metadata": {},
   "outputs": [
    {
     "data": {
      "text/plain": [
       "['Apple', 'Google', 'Microsoft']"
      ]
     },
     "execution_count": 27,
     "metadata": {},
     "output_type": "execute_result"
    }
   ],
   "source": [
    "sort_by_length([\"Google\", \"Apple\", \"Microsoft\"])"
   ]
  },
  {
   "cell_type": "code",
   "execution_count": 28,
   "id": "e3c618d3",
   "metadata": {},
   "outputs": [
    {
     "data": {
      "text/plain": [
       "['Raphael', 'Leonardo', 'Donatello', 'Michelangelo']"
      ]
     },
     "execution_count": 28,
     "metadata": {},
     "output_type": "execute_result"
    }
   ],
   "source": [
    "sort_by_length([\"Leonardo\", \"Michelangelo\", \"Raphael\", \"Donatello\"])"
   ]
  },
  {
   "cell_type": "code",
   "execution_count": 29,
   "id": "d3099214",
   "metadata": {},
   "outputs": [
    {
     "data": {
      "text/plain": [
       "['Jung', 'Turing', 'Einstein']"
      ]
     },
     "execution_count": 29,
     "metadata": {},
     "output_type": "execute_result"
    }
   ],
   "source": [
    "sort_by_length([\"Turing\", \"Einstein\", \"Jung\"])"
   ]
  },
  {
   "cell_type": "code",
   "execution_count": 30,
   "id": "a2b6239c",
   "metadata": {},
   "outputs": [],
   "source": [
    "'''\n",
    "Q.[5] : Create a function that validates whether three given integers form a Pythagorean triplet. The sum of the squares\n",
    "\n",
    "        of the two smallest integers must equal the square of the largest number to be validated.\n",
    "\n",
    "        Examples\n",
    "        \n",
    "        is_triplet(3, 4, 5)➞ True\n",
    "        \n",
    "        # 3² + 4² = 25\n",
    "        \n",
    "        # 5² = 25\n",
    "        \n",
    "        is_triplet(13, 5, 12) ➞ True\n",
    "        \n",
    "        # 5² + 12² = 169\n",
    "        \n",
    "        # 13² = 169\n",
    "        \n",
    "        is_triplet(1, 2, 3) ➞ False\n",
    "        \n",
    "        # 1² + 2² = 5\n",
    "        \n",
    "        # 3² = 9\n",
    "        \n",
    "        Notes\n",
    "        \n",
    "        Numbers may not be given in a sorted order.\n",
    "\n",
    "'''\n",
    "\n",
    "def is_triplet(a,b,c):\n",
    "    lst = []\n",
    "    lst.extend((a,b,c))\n",
    "    lst = sorted(lst)\n",
    "\n",
    "    if lst[0]**2 + lst[1]**2 == lst[2]**2:\n",
    "        print('Triplets')\n",
    "        return True\n",
    "    else:\n",
    "        print(\"not triplet\")\n",
    "        return False"
   ]
  },
  {
   "cell_type": "code",
   "execution_count": 34,
   "id": "04456de1",
   "metadata": {},
   "outputs": [
    {
     "name": "stdout",
     "output_type": "stream",
     "text": [
      "Triplets\n"
     ]
    },
    {
     "data": {
      "text/plain": [
       "True"
      ]
     },
     "execution_count": 34,
     "metadata": {},
     "output_type": "execute_result"
    }
   ],
   "source": [
    "is_triplet(3, 4, 5)"
   ]
  },
  {
   "cell_type": "code",
   "execution_count": 35,
   "id": "2c8009bc",
   "metadata": {},
   "outputs": [
    {
     "name": "stdout",
     "output_type": "stream",
     "text": [
      "Triplets\n"
     ]
    },
    {
     "data": {
      "text/plain": [
       "True"
      ]
     },
     "execution_count": 35,
     "metadata": {},
     "output_type": "execute_result"
    }
   ],
   "source": [
    "is_triplet(13, 5, 12)"
   ]
  },
  {
   "cell_type": "code",
   "execution_count": 36,
   "id": "797178f2",
   "metadata": {},
   "outputs": [
    {
     "name": "stdout",
     "output_type": "stream",
     "text": [
      "not triplet\n"
     ]
    },
    {
     "data": {
      "text/plain": [
       "False"
      ]
     },
     "execution_count": 36,
     "metadata": {},
     "output_type": "execute_result"
    }
   ],
   "source": [
    "is_triplet(1, 2, 3)"
   ]
  },
  {
   "cell_type": "code",
   "execution_count": null,
   "id": "1448c55f",
   "metadata": {},
   "outputs": [],
   "source": []
  }
 ],
 "metadata": {
  "kernelspec": {
   "display_name": "Python 3 (ipykernel)",
   "language": "python",
   "name": "python3"
  },
  "language_info": {
   "codemirror_mode": {
    "name": "ipython",
    "version": 3
   },
   "file_extension": ".py",
   "mimetype": "text/x-python",
   "name": "python",
   "nbconvert_exporter": "python",
   "pygments_lexer": "ipython3",
   "version": "3.9.13"
  }
 },
 "nbformat": 4,
 "nbformat_minor": 5
}
